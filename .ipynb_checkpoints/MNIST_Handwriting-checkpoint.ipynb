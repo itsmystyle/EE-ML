{
 "cells": [
  {
   "cell_type": "code",
   "execution_count": 3,
   "metadata": {},
   "outputs": [],
   "source": [
    "import numpy as np\n",
    "from keras.models import Sequential\n",
    "from keras.layers.core import Dense, Dropout, Activation\n",
    "from keras.layers import Conv2D, MaxPooling2D, Flatten\n",
    "from keras.optimizers import SGD, Adam\n",
    "from keras.utils import np_utils\n",
    "from keras.datasets import mnist"
   ]
  },
  {
   "cell_type": "code",
   "execution_count": 4,
   "metadata": {},
   "outputs": [],
   "source": [
    "def load_data():\n",
    "    (x_train, y_train), (x_test, y_test) = mnist.load_data()\n",
    "    number=10000\n",
    "    x_train = x_train[:number].reshape(number, 28*28)\n",
    "    y_train = y_train[:number]\n",
    "    x_test = x_test.reshape(x_test.shape[0], 28*28)\n",
    "    x_train = x_train.astype('float32')\n",
    "    x_test = x_test.astype('float32')\n",
    "    \n",
    "    y_train = np_utils.to_categorical(y_train, 10)\n",
    "    y_test = np_utils.to_categorical(y_test, 10)\n",
    "    \n",
    "    x_train /= 255\n",
    "    x_test /= 255\n",
    "    \n",
    "    return (x_train, y_train), (x_test, y_test)"
   ]
  },
  {
   "cell_type": "code",
   "execution_count": 5,
   "metadata": {},
   "outputs": [
    {
     "name": "stdout",
     "output_type": "stream",
     "text": [
      "Downloading data from https://s3.amazonaws.com/img-datasets/mnist.npz\n",
      "11493376/11490434 [==============================] - 7s 1us/step\n"
     ]
    }
   ],
   "source": [
    "(x_train, y_train), (x_test, y_test) = load_data()"
   ]
  },
  {
   "cell_type": "code",
   "execution_count": 34,
   "metadata": {},
   "outputs": [
    {
     "name": "stdout",
     "output_type": "stream",
     "text": [
      "Epoch 1/20\n",
      "10000/10000 [==============================] - 6s 584us/step - loss: 1.1895 - acc: 0.5930\n",
      "Epoch 2/20\n",
      "10000/10000 [==============================] - 5s 471us/step - loss: 0.4770 - acc: 0.8538\n",
      "Epoch 3/20\n",
      "10000/10000 [==============================] - 5s 463us/step - loss: 0.3704 - acc: 0.8894\n",
      "Epoch 4/20\n",
      "10000/10000 [==============================] - 5s 459us/step - loss: 0.3065 - acc: 0.9095\n",
      "Epoch 5/20\n",
      "10000/10000 [==============================] - 5s 466us/step - loss: 0.2811 - acc: 0.9160\n",
      "Epoch 6/20\n",
      "10000/10000 [==============================] - 5s 458us/step - loss: 0.2603 - acc: 0.9196\n",
      "Epoch 7/20\n",
      "10000/10000 [==============================] - 5s 460us/step - loss: 0.2174 - acc: 0.9341\n",
      "Epoch 8/20\n",
      "10000/10000 [==============================] - 5s 458us/step - loss: 0.2104 - acc: 0.9379\n",
      "Epoch 9/20\n",
      "10000/10000 [==============================] - 5s 461us/step - loss: 0.1961 - acc: 0.9393\n",
      "Epoch 10/20\n",
      "10000/10000 [==============================] - 5s 460us/step - loss: 0.1770 - acc: 0.9475\n",
      "Epoch 11/20\n",
      "10000/10000 [==============================] - 5s 470us/step - loss: 0.1647 - acc: 0.9483\n",
      "Epoch 12/20\n",
      "10000/10000 [==============================] - 5s 466us/step - loss: 0.1550 - acc: 0.9553\n",
      "Epoch 13/20\n",
      "10000/10000 [==============================] - 5s 461us/step - loss: 0.1413 - acc: 0.9568\n",
      "Epoch 14/20\n",
      "10000/10000 [==============================] - 5s 509us/step - loss: 0.1474 - acc: 0.9549\n",
      "Epoch 15/20\n",
      "10000/10000 [==============================] - 5s 508us/step - loss: 0.1377 - acc: 0.9565\n",
      "Epoch 16/20\n",
      "10000/10000 [==============================] - 5s 534us/step - loss: 0.1407 - acc: 0.9586\n",
      "Epoch 17/20\n",
      "10000/10000 [==============================] - 5s 506us/step - loss: 0.1186 - acc: 0.9630\n",
      "Epoch 18/20\n",
      "10000/10000 [==============================] - 5s 485us/step - loss: 0.1200 - acc: 0.9628\n",
      "Epoch 19/20\n",
      "10000/10000 [==============================] - 5s 482us/step - loss: 0.1213 - acc: 0.9630\n",
      "Epoch 20/20\n",
      "10000/10000 [==============================] - 5s 466us/step - loss: 0.1142 - acc: 0.9640\n"
     ]
    },
    {
     "data": {
      "text/plain": [
       "<keras.callbacks.History at 0x13ca2aeb8>"
      ]
     },
     "execution_count": 34,
     "metadata": {},
     "output_type": "execute_result"
    }
   ],
   "source": [
    "model = Sequential()\n",
    "model.add(Dense(input_dim=28*28, units=1000, activation='relu'))\n",
    "model.add(Dropout(0.7))\n",
    "model.add(Dense(1000, activation='relu'))\n",
    "model.add(Dropout(0.7))\n",
    "model.add(Dense(500, activation='relu'))\n",
    "model.add(Dropout(0.5))\n",
    "model.add(Dense(10, activation='softmax'))\n",
    "\n",
    "model.compile(loss='categorical_crossentropy', optimizer='adam', metrics=['accuracy'])\n",
    "\n",
    "model.fit(x_train, y_train, batch_size=128, epochs=20)"
   ]
  },
  {
   "cell_type": "code",
   "execution_count": 35,
   "metadata": {},
   "outputs": [
    {
     "name": "stdout",
     "output_type": "stream",
     "text": [
      "10000/10000 [==============================] - 1s 99us/step\n",
      "10000/10000 [==============================] - 1s 76us/step\n"
     ]
    }
   ],
   "source": [
    "result_tr = model.evaluate(x_train, y_train, batch_size=10000)\n",
    "result_t = model.evaluate(x_test, y_test, batch_size=10000)"
   ]
  },
  {
   "cell_type": "code",
   "execution_count": 36,
   "metadata": {},
   "outputs": [
    {
     "name": "stdout",
     "output_type": "stream",
     "text": [
      "Train Acc: 0.9923999905586243\n",
      "Test Acc: 0.9617000222206116\n"
     ]
    }
   ],
   "source": [
    "print('Train Acc: ' + str(result_tr[1]))\n",
    "print('Test Acc: ' + str(result_t[1]))"
   ]
  },
  {
   "cell_type": "code",
   "execution_count": null,
   "metadata": {},
   "outputs": [],
   "source": []
  }
 ],
 "metadata": {
  "kernelspec": {
   "display_name": "Python 3",
   "language": "python",
   "name": "python3"
  },
  "language_info": {
   "codemirror_mode": {
    "name": "ipython",
    "version": 3
   },
   "file_extension": ".py",
   "mimetype": "text/x-python",
   "name": "python",
   "nbconvert_exporter": "python",
   "pygments_lexer": "ipython3",
   "version": "3.6.6"
  }
 },
 "nbformat": 4,
 "nbformat_minor": 2
}
