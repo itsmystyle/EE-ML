{
 "cells": [
  {
   "cell_type": "code",
   "execution_count": 191,
   "metadata": {},
   "outputs": [],
   "source": [
    "import numpy as np\n",
    "import pandas as pd\n",
    "import csv\n",
    "import sys"
   ]
  },
  {
   "cell_type": "code",
   "execution_count": 192,
   "metadata": {},
   "outputs": [],
   "source": [
    "train = pd.read_csv('data/train.csv')\n",
    "test = pd.read_csv('data/test.csv')\n",
    "Y_test = pd.read_csv('data/gender_submission.csv')"
   ]
  },
  {
   "cell_type": "code",
   "execution_count": 193,
   "metadata": {},
   "outputs": [],
   "source": [
    "X_train = train[['Pclass', 'Fare']]\n",
    "X_test = test[['Pclass', 'Fare']]\n",
    "Y_train = train['Survived']"
   ]
  },
  {
   "cell_type": "code",
   "execution_count": 194,
   "metadata": {},
   "outputs": [
    {
     "name": "stdout",
     "output_type": "stream",
     "text": [
      "<class 'pandas.core.frame.DataFrame'>\n",
      "RangeIndex: 891 entries, 0 to 890\n",
      "Data columns (total 12 columns):\n",
      "PassengerId    891 non-null int64\n",
      "Survived       891 non-null int64\n",
      "Pclass         891 non-null int64\n",
      "Name           891 non-null object\n",
      "Sex            891 non-null object\n",
      "Age            714 non-null float64\n",
      "SibSp          891 non-null int64\n",
      "Parch          891 non-null int64\n",
      "Ticket         891 non-null object\n",
      "Fare           891 non-null float64\n",
      "Cabin          204 non-null object\n",
      "Embarked       889 non-null object\n",
      "dtypes: float64(2), int64(5), object(5)\n",
      "memory usage: 83.6+ KB\n"
     ]
    }
   ],
   "source": [
    "train.info()"
   ]
  },
  {
   "cell_type": "code",
   "execution_count": 195,
   "metadata": {},
   "outputs": [],
   "source": [
    "class GenerativeModel(object):\n",
    "    def __init__(self):\n",
    "        a = None\n",
    "        self.con_inv = None\n",
    "        \n",
    "    def fit(self, X, y):\n",
    "        # Find meand, coveriance matrix of two class\n",
    "        self.c1_ind = np.where(y==0)[0]\n",
    "        self.c2_ind = np.where(y==1)[0]\n",
    "        \n",
    "        self.c1_X = np.array(X)[self.c1_ind, :]\n",
    "        self.c2_X = np.array(X)[self.c2_ind, :]\n",
    "        self.u1 = np.mean(self.c1_X, axis=0)\n",
    "        self.u2 = np.mean(self.c2_X, axis=0)\n",
    "        self.p1 = len(self.c1_ind) / (len(self.c1_ind) + len(self.c2_ind))\n",
    "        self.p2 = 1 - self.p1\n",
    "        self.cov =  np.cov(self.c1_X,rowvar=False) * self.p1 + np.cov(self.c2_X,rowvar=False) * self.p2\n",
    "#         print(self.cov)\n",
    "        self.cov_inv = np.linalg.pinv(self.cov)\n",
    "        \n",
    "    def predict(self, test_X):\n",
    "        test_X = np.array(test_X)\n",
    "        z =((test_X).dot(self.cov_inv).dot(self.u1-self.u2) - \\\n",
    "            (1/2)*(self.u1).dot(self.cov_inv).dot(self.u1)+ (1/2)\\\n",
    "            *(self.u2).dot(self.cov_inv).dot(self.u2)+\\\n",
    "            np.log(len(self.c1_ind)/len(self.c2_ind)))\n",
    "        return self.sign(self.sigmoid(z))\n",
    "    \n",
    "    def sigmoid(self, z):\n",
    "        res = 1/(1+np.exp(-z))\n",
    "        return np.clip(res, 1e-10, 1-(1e-10))\n",
    "    \n",
    "    def sign(self, a):\n",
    "        output = []\n",
    "        for i in a:\n",
    "            if i > 0.5:\n",
    "                output.append(1)\n",
    "            else:\n",
    "                output.append(0)\n",
    "        return output"
   ]
  },
  {
   "cell_type": "code",
   "execution_count": 196,
   "metadata": {},
   "outputs": [],
   "source": [
    "GM = GenerativeModel()"
   ]
  },
  {
   "cell_type": "code",
   "execution_count": 197,
   "metadata": {},
   "outputs": [],
   "source": [
    "GM.fit(X_train, Y_train)\n",
    "pred_y = GM.predict(X_test)"
   ]
  },
  {
   "cell_type": "code",
   "execution_count": 198,
   "metadata": {},
   "outputs": [
    {
     "data": {
      "text/plain": [
       "152"
      ]
     },
     "execution_count": 198,
     "metadata": {},
     "output_type": "execute_result"
    }
   ],
   "source": [
    "len(Y_test) - len(np.where(Y_test==0)[0])"
   ]
  },
  {
   "cell_type": "code",
   "execution_count": 199,
   "metadata": {},
   "outputs": [
    {
     "data": {
      "text/plain": [
       "0.3827751196172249"
      ]
     },
     "execution_count": 199,
     "metadata": {},
     "output_type": "execute_result"
    }
   ],
   "source": [
    "len(np.where((Y_test['Survived'] == pred_y) ==True )[0]) / len(Y_test)"
   ]
  },
  {
   "cell_type": "code",
   "execution_count": null,
   "metadata": {},
   "outputs": [],
   "source": []
  }
 ],
 "metadata": {
  "kernelspec": {
   "display_name": "Python 3",
   "language": "python",
   "name": "python3"
  },
  "language_info": {
   "codemirror_mode": {
    "name": "ipython",
    "version": 3
   },
   "file_extension": ".py",
   "mimetype": "text/x-python",
   "name": "python",
   "nbconvert_exporter": "python",
   "pygments_lexer": "ipython3",
   "version": "3.6.6"
  }
 },
 "nbformat": 4,
 "nbformat_minor": 2
}
